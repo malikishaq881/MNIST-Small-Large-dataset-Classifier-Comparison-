{
 "cells": [
  {
   "cell_type": "code",
   "execution_count": 1,
   "id": "0c2292ff",
   "metadata": {},
   "outputs": [],
   "source": [
    "import tensorflow as tf\n",
    "from sklearn.datasets import load_digits\n",
    "from tensorflow.keras.datasets import mnist\n",
    "from sklearn.neighbors import KNeighborsClassifier\n",
    "from sklearn.linear_model import LogisticRegression\n",
    "from sklearn.tree import DecisionTreeClassifier\n",
    "from sklearn.ensemble import RandomForestClassifier\n",
    "from sklearn.metrics import accuracy_score\n",
    "from sklearn.svm import SVC\n",
    "from sklearn.naive_bayes import GaussianNB\n",
    "from sklearn.neighbors import KNeighborsClassifier\n",
    "from tensorflow.keras.models import Sequential\n",
    "from tensorflow.keras.layers import Dense\n",
    "import time\n",
    "import joblib"
   ]
  },
  {
   "cell_type": "code",
   "execution_count": 2,
   "id": "07553141",
   "metadata": {},
   "outputs": [
    {
     "data": {
      "text/plain": [
       "{'data': array([[ 0.,  0.,  5., ...,  0.,  0.,  0.],\n",
       "        [ 0.,  0.,  0., ..., 10.,  0.,  0.],\n",
       "        [ 0.,  0.,  0., ..., 16.,  9.,  0.],\n",
       "        ...,\n",
       "        [ 0.,  0.,  1., ...,  6.,  0.,  0.],\n",
       "        [ 0.,  0.,  2., ..., 12.,  0.,  0.],\n",
       "        [ 0.,  0., 10., ..., 12.,  1.,  0.]]),\n",
       " 'target': array([0, 1, 2, ..., 8, 9, 8]),\n",
       " 'frame': None,\n",
       " 'feature_names': ['pixel_0_0',\n",
       "  'pixel_0_1',\n",
       "  'pixel_0_2',\n",
       "  'pixel_0_3',\n",
       "  'pixel_0_4',\n",
       "  'pixel_0_5',\n",
       "  'pixel_0_6',\n",
       "  'pixel_0_7',\n",
       "  'pixel_1_0',\n",
       "  'pixel_1_1',\n",
       "  'pixel_1_2',\n",
       "  'pixel_1_3',\n",
       "  'pixel_1_4',\n",
       "  'pixel_1_5',\n",
       "  'pixel_1_6',\n",
       "  'pixel_1_7',\n",
       "  'pixel_2_0',\n",
       "  'pixel_2_1',\n",
       "  'pixel_2_2',\n",
       "  'pixel_2_3',\n",
       "  'pixel_2_4',\n",
       "  'pixel_2_5',\n",
       "  'pixel_2_6',\n",
       "  'pixel_2_7',\n",
       "  'pixel_3_0',\n",
       "  'pixel_3_1',\n",
       "  'pixel_3_2',\n",
       "  'pixel_3_3',\n",
       "  'pixel_3_4',\n",
       "  'pixel_3_5',\n",
       "  'pixel_3_6',\n",
       "  'pixel_3_7',\n",
       "  'pixel_4_0',\n",
       "  'pixel_4_1',\n",
       "  'pixel_4_2',\n",
       "  'pixel_4_3',\n",
       "  'pixel_4_4',\n",
       "  'pixel_4_5',\n",
       "  'pixel_4_6',\n",
       "  'pixel_4_7',\n",
       "  'pixel_5_0',\n",
       "  'pixel_5_1',\n",
       "  'pixel_5_2',\n",
       "  'pixel_5_3',\n",
       "  'pixel_5_4',\n",
       "  'pixel_5_5',\n",
       "  'pixel_5_6',\n",
       "  'pixel_5_7',\n",
       "  'pixel_6_0',\n",
       "  'pixel_6_1',\n",
       "  'pixel_6_2',\n",
       "  'pixel_6_3',\n",
       "  'pixel_6_4',\n",
       "  'pixel_6_5',\n",
       "  'pixel_6_6',\n",
       "  'pixel_6_7',\n",
       "  'pixel_7_0',\n",
       "  'pixel_7_1',\n",
       "  'pixel_7_2',\n",
       "  'pixel_7_3',\n",
       "  'pixel_7_4',\n",
       "  'pixel_7_5',\n",
       "  'pixel_7_6',\n",
       "  'pixel_7_7'],\n",
       " 'target_names': array([0, 1, 2, 3, 4, 5, 6, 7, 8, 9]),\n",
       " 'images': array([[[ 0.,  0.,  5., ...,  1.,  0.,  0.],\n",
       "         [ 0.,  0., 13., ..., 15.,  5.,  0.],\n",
       "         [ 0.,  3., 15., ..., 11.,  8.,  0.],\n",
       "         ...,\n",
       "         [ 0.,  4., 11., ..., 12.,  7.,  0.],\n",
       "         [ 0.,  2., 14., ..., 12.,  0.,  0.],\n",
       "         [ 0.,  0.,  6., ...,  0.,  0.,  0.]],\n",
       " \n",
       "        [[ 0.,  0.,  0., ...,  5.,  0.,  0.],\n",
       "         [ 0.,  0.,  0., ...,  9.,  0.,  0.],\n",
       "         [ 0.,  0.,  3., ...,  6.,  0.,  0.],\n",
       "         ...,\n",
       "         [ 0.,  0.,  1., ...,  6.,  0.,  0.],\n",
       "         [ 0.,  0.,  1., ...,  6.,  0.,  0.],\n",
       "         [ 0.,  0.,  0., ..., 10.,  0.,  0.]],\n",
       " \n",
       "        [[ 0.,  0.,  0., ..., 12.,  0.,  0.],\n",
       "         [ 0.,  0.,  3., ..., 14.,  0.,  0.],\n",
       "         [ 0.,  0.,  8., ..., 16.,  0.,  0.],\n",
       "         ...,\n",
       "         [ 0.,  9., 16., ...,  0.,  0.,  0.],\n",
       "         [ 0.,  3., 13., ..., 11.,  5.,  0.],\n",
       "         [ 0.,  0.,  0., ..., 16.,  9.,  0.]],\n",
       " \n",
       "        ...,\n",
       " \n",
       "        [[ 0.,  0.,  1., ...,  1.,  0.,  0.],\n",
       "         [ 0.,  0., 13., ...,  2.,  1.,  0.],\n",
       "         [ 0.,  0., 16., ..., 16.,  5.,  0.],\n",
       "         ...,\n",
       "         [ 0.,  0., 16., ..., 15.,  0.,  0.],\n",
       "         [ 0.,  0., 15., ..., 16.,  0.,  0.],\n",
       "         [ 0.,  0.,  2., ...,  6.,  0.,  0.]],\n",
       " \n",
       "        [[ 0.,  0.,  2., ...,  0.,  0.,  0.],\n",
       "         [ 0.,  0., 14., ..., 15.,  1.,  0.],\n",
       "         [ 0.,  4., 16., ..., 16.,  7.,  0.],\n",
       "         ...,\n",
       "         [ 0.,  0.,  0., ..., 16.,  2.,  0.],\n",
       "         [ 0.,  0.,  4., ..., 16.,  2.,  0.],\n",
       "         [ 0.,  0.,  5., ..., 12.,  0.,  0.]],\n",
       " \n",
       "        [[ 0.,  0., 10., ...,  1.,  0.,  0.],\n",
       "         [ 0.,  2., 16., ...,  1.,  0.,  0.],\n",
       "         [ 0.,  0., 15., ..., 15.,  0.,  0.],\n",
       "         ...,\n",
       "         [ 0.,  4., 16., ..., 16.,  6.,  0.],\n",
       "         [ 0.,  8., 16., ..., 16.,  8.,  0.],\n",
       "         [ 0.,  1.,  8., ..., 12.,  1.,  0.]]]),\n",
       " 'DESCR': \".. _digits_dataset:\\n\\nOptical recognition of handwritten digits dataset\\n--------------------------------------------------\\n\\n**Data Set Characteristics:**\\n\\n    :Number of Instances: 1797\\n    :Number of Attributes: 64\\n    :Attribute Information: 8x8 image of integer pixels in the range 0..16.\\n    :Missing Attribute Values: None\\n    :Creator: E. Alpaydin (alpaydin '@' boun.edu.tr)\\n    :Date: July; 1998\\n\\nThis is a copy of the test set of the UCI ML hand-written digits datasets\\nhttps://archive.ics.uci.edu/ml/datasets/Optical+Recognition+of+Handwritten+Digits\\n\\nThe data set contains images of hand-written digits: 10 classes where\\neach class refers to a digit.\\n\\nPreprocessing programs made available by NIST were used to extract\\nnormalized bitmaps of handwritten digits from a preprinted form. From a\\ntotal of 43 people, 30 contributed to the training set and different 13\\nto the test set. 32x32 bitmaps are divided into nonoverlapping blocks of\\n4x4 and the number of on pixels are counted in each block. This generates\\nan input matrix of 8x8 where each element is an integer in the range\\n0..16. This reduces dimensionality and gives invariance to small\\ndistortions.\\n\\nFor info on NIST preprocessing routines, see M. D. Garris, J. L. Blue, G.\\nT. Candela, D. L. Dimmick, J. Geist, P. J. Grother, S. A. Janet, and C.\\nL. Wilson, NIST Form-Based Handprint Recognition System, NISTIR 5469,\\n1994.\\n\\n.. topic:: References\\n\\n  - C. Kaynak (1995) Methods of Combining Multiple Classifiers and Their\\n    Applications to Handwritten Digit Recognition, MSc Thesis, Institute of\\n    Graduate Studies in Science and Engineering, Bogazici University.\\n  - E. Alpaydin, C. Kaynak (1998) Cascading Classifiers, Kybernetika.\\n  - Ken Tang and Ponnuthurai N. Suganthan and Xi Yao and A. Kai Qin.\\n    Linear dimensionalityreduction using relevance weighted LDA. School of\\n    Electrical and Electronic Engineering Nanyang Technological University.\\n    2005.\\n  - Claudio Gentile. A New Approximate Maximal Margin Classification\\n    Algorithm. NIPS. 2000.\\n\"}"
      ]
     },
     "execution_count": 2,
     "metadata": {},
     "output_type": "execute_result"
    }
   ],
   "source": [
    "# Importing the dataset\n",
    "mnist_small=load_digits()\n",
    "mnist_small"
   ]
  },
  {
   "cell_type": "code",
   "execution_count": 3,
   "id": "0c416824",
   "metadata": {},
   "outputs": [],
   "source": [
    "# Load and prepare the MNIST dataset to be acceptable for the model\n",
    "(x_train_ld, y_train_ld), (x_test_ld, y_test_ld) = mnist.load_data()\n",
    "x_train_ld = x_train_ld.reshape(-1, 784)/255.0\n",
    "x_test_ld = x_test_ld.reshape(-1, 784)/255.0"
   ]
  },
  {
   "cell_type": "code",
   "execution_count": 4,
   "id": "5e910323",
   "metadata": {},
   "outputs": [],
   "source": [
    "x= mnist_small.data"
   ]
  },
  {
   "cell_type": "code",
   "execution_count": 5,
   "id": "1de74114",
   "metadata": {},
   "outputs": [],
   "source": [
    "y = mnist_small.target"
   ]
  },
  {
   "cell_type": "code",
   "execution_count": 6,
   "id": "e6d4a629",
   "metadata": {},
   "outputs": [],
   "source": [
    "from sklearn.model_selection import train_test_split\n",
    "x_train, x_test, y_train, y_test = train_test_split(x, y, test_size=0.25, random_state=0)"
   ]
  },
  {
   "cell_type": "code",
   "execution_count": 7,
   "id": "10e290b8",
   "metadata": {},
   "outputs": [
    {
     "data": {
      "text/plain": [
       "(1347, 64)"
      ]
     },
     "execution_count": 7,
     "metadata": {},
     "output_type": "execute_result"
    }
   ],
   "source": [
    "x_train.shape"
   ]
  },
  {
   "cell_type": "markdown",
   "id": "6bd1fdf0",
   "metadata": {},
   "source": [
    "# Logistic Regression on Small Dataset"
   ]
  },
  {
   "cell_type": "code",
   "execution_count": 15,
   "id": "96c568bb",
   "metadata": {
    "scrolled": true
   },
   "outputs": [
    {
     "name": "stdout",
     "output_type": "stream",
     "text": [
      "1.0\n"
     ]
    },
    {
     "name": "stderr",
     "output_type": "stream",
     "text": [
      "C:\\Users\\Asad\\anaconda3\\Lib\\site-packages\\sklearn\\linear_model\\_logistic.py:458: ConvergenceWarning: lbfgs failed to converge (status=1):\n",
      "STOP: TOTAL NO. of ITERATIONS REACHED LIMIT.\n",
      "\n",
      "Increase the number of iterations (max_iter) or scale the data as shown in:\n",
      "    https://scikit-learn.org/stable/modules/preprocessing.html\n",
      "Please also refer to the documentation for alternative solver options:\n",
      "    https://scikit-learn.org/stable/modules/linear_model.html#logistic-regression\n",
      "  n_iter_i = _check_optimize_result(\n"
     ]
    }
   ],
   "source": [
    "classifier_for_lr = LogisticRegression()\n",
    "classifier_for_lr.fit(x_train, y_train)\n",
    "\n",
    "score_train_lr=classifier_for_lr.score(x_train, y_train)\n",
    "print(score_train_lr)"
   ]
  },
  {
   "cell_type": "code",
   "execution_count": 9,
   "id": "f3d0fa0d",
   "metadata": {},
   "outputs": [
    {
     "name": "stdout",
     "output_type": "stream",
     "text": [
      "0.9511111111111111\n"
     ]
    }
   ],
   "source": [
    "predictions_for_lr=classifier_for_lr.predict(x_test)\n",
    "score_test_lr=accuracy_score(y_test, predictions_for_lr)\n",
    "print(score_test_lr)"
   ]
  },
  {
   "cell_type": "markdown",
   "id": "21b9d254",
   "metadata": {},
   "source": [
    "# Logistic Regression on Large Dataset"
   ]
  },
  {
   "cell_type": "code",
   "execution_count": 10,
   "id": "6c2a5118",
   "metadata": {},
   "outputs": [
    {
     "name": "stdout",
     "output_type": "stream",
     "text": [
      "0.9350666666666667\n"
     ]
    },
    {
     "name": "stderr",
     "output_type": "stream",
     "text": [
      "C:\\Users\\Asad\\anaconda3\\Lib\\site-packages\\sklearn\\linear_model\\_logistic.py:458: ConvergenceWarning: lbfgs failed to converge (status=1):\n",
      "STOP: TOTAL NO. of ITERATIONS REACHED LIMIT.\n",
      "\n",
      "Increase the number of iterations (max_iter) or scale the data as shown in:\n",
      "    https://scikit-learn.org/stable/modules/preprocessing.html\n",
      "Please also refer to the documentation for alternative solver options:\n",
      "    https://scikit-learn.org/stable/modules/linear_model.html#logistic-regression\n",
      "  n_iter_i = _check_optimize_result(\n"
     ]
    }
   ],
   "source": [
    "classifier_for_ld_lr = LogisticRegression()\n",
    "classifier_for_ld_lr.fit(x_train_ld, y_train_ld)\n",
    "\n",
    "score_train_ld_lr=classifier_for_ld_lr.score(x_train_ld, y_train_ld)\n",
    "print(score_train_ld_lr)"
   ]
  },
  {
   "cell_type": "code",
   "execution_count": 11,
   "id": "0aac75bc",
   "metadata": {},
   "outputs": [
    {
     "name": "stdout",
     "output_type": "stream",
     "text": [
      "0.9258\n"
     ]
    }
   ],
   "source": [
    "predictions_for_ld_lr=classifier_for_ld_lr.predict(x_test_ld)\n",
    "score_test_ld_lr=accuracy_score(predictions_for_ld_lr, y_test_ld)\n",
    "print(score_test_ld_lr)"
   ]
  },
  {
   "cell_type": "markdown",
   "id": "feb3b4c1",
   "metadata": {},
   "source": [
    "# Decision Tree on Small Dataset"
   ]
  },
  {
   "cell_type": "code",
   "execution_count": 12,
   "id": "c4e47b96",
   "metadata": {},
   "outputs": [
    {
     "name": "stdout",
     "output_type": "stream",
     "text": [
      "1.0\n"
     ]
    }
   ],
   "source": [
    "classifier_for_dt = DecisionTreeClassifier(max_depth=20)\n",
    "classifier_for_dt.fit(x_train, y_train)\n",
    "\n",
    "score_train_dt=classifier_for_dt.score(x_train, y_train)\n",
    "print(score_train_dt)"
   ]
  },
  {
   "cell_type": "code",
   "execution_count": 13,
   "id": "1952ce66",
   "metadata": {},
   "outputs": [
    {
     "name": "stdout",
     "output_type": "stream",
     "text": [
      "0.8533333333333334\n"
     ]
    }
   ],
   "source": [
    "predictions_for_dt=classifier_for_dt.predict(x_test)\n",
    "score_for_dt=accuracy_score(predictions_for_dt, y_test)\n",
    "print(score_for_dt)"
   ]
  },
  {
   "cell_type": "markdown",
   "id": "9db6278b",
   "metadata": {},
   "source": [
    "# Decision Tree on Large Dataset"
   ]
  },
  {
   "cell_type": "code",
   "execution_count": 14,
   "id": "793bb6b8",
   "metadata": {},
   "outputs": [
    {
     "name": "stdout",
     "output_type": "stream",
     "text": [
      "0.9950333333333333\n"
     ]
    }
   ],
   "source": [
    "classifier_for_ld_dt = DecisionTreeClassifier(max_depth=20)\n",
    "classifier_for_ld_dt.fit(x_train_ld, y_train_ld)\n",
    "\n",
    "score_train_ld_dt=classifier_for_ld_dt.score(x_train_ld, y_train_ld)\n",
    "print(score_train_ld_dt)"
   ]
  },
  {
   "cell_type": "code",
   "execution_count": 15,
   "id": "306d700a",
   "metadata": {},
   "outputs": [
    {
     "name": "stdout",
     "output_type": "stream",
     "text": [
      "0.8805\n"
     ]
    }
   ],
   "source": [
    "predictions_for_ld_dt=classifier_for_ld_dt.predict(x_test_ld)\n",
    "score_for_ld_dt=accuracy_score(predictions_for_ld_dt, y_test_ld)\n",
    "print(score_for_ld_dt)"
   ]
  },
  {
   "cell_type": "markdown",
   "id": "3304b6a8",
   "metadata": {},
   "source": [
    "# Random Forest on Small Dataset"
   ]
  },
  {
   "cell_type": "code",
   "execution_count": 16,
   "id": "9566da45",
   "metadata": {},
   "outputs": [
    {
     "name": "stdout",
     "output_type": "stream",
     "text": [
      "1.0\n"
     ]
    }
   ],
   "source": [
    "classifier_for_rf = RandomForestClassifier(n_estimators=100, random_state=42)\n",
    "classifier_for_rf.fit(x_train, y_train)\n",
    "score_train_rf=classifier_for_rf.score(x_train, y_train)\n",
    "print(score_train_rf)"
   ]
  },
  {
   "cell_type": "code",
   "execution_count": 17,
   "id": "14f4ae95",
   "metadata": {},
   "outputs": [
    {
     "name": "stdout",
     "output_type": "stream",
     "text": [
      "0.9777777777777777\n"
     ]
    }
   ],
   "source": [
    "predictions_for_rf=classifier_for_rf.predict(x_test)\n",
    "score_for_rf=accuracy_score(predictions_for_rf, y_test)\n",
    "print(score_for_rf)"
   ]
  },
  {
   "cell_type": "markdown",
   "id": "7247ba0e",
   "metadata": {},
   "source": [
    "# Random Forest on Large Dataset"
   ]
  },
  {
   "cell_type": "code",
   "execution_count": 18,
   "id": "d231c0e8",
   "metadata": {},
   "outputs": [
    {
     "name": "stdout",
     "output_type": "stream",
     "text": [
      "1.0\n"
     ]
    }
   ],
   "source": [
    "classifier_for_ld_rf = RandomForestClassifier(n_estimators=100, random_state=42)\n",
    "classifier_for_ld_rf.fit(x_train_ld, y_train_ld)\n",
    "score_train_ld_rf=classifier_for_ld_rf.score(x_train_ld, y_train_ld)\n",
    "print(score_train_ld_rf)"
   ]
  },
  {
   "cell_type": "code",
   "execution_count": 19,
   "id": "30808880",
   "metadata": {},
   "outputs": [
    {
     "name": "stdout",
     "output_type": "stream",
     "text": [
      "0.9704\n"
     ]
    }
   ],
   "source": [
    "predictions_for_ld_rf=classifier_for_ld_rf.predict(x_test_ld)\n",
    "score_for_ld_rf=accuracy_score(predictions_for_ld_rf, y_test_ld)\n",
    "print(score_for_ld_rf)"
   ]
  },
  {
   "cell_type": "markdown",
   "id": "a0b934f6",
   "metadata": {},
   "source": [
    "# SVM on Small Dataset"
   ]
  },
  {
   "cell_type": "code",
   "execution_count": 20,
   "id": "d830bf0c",
   "metadata": {},
   "outputs": [
    {
     "name": "stdout",
     "output_type": "stream",
     "text": [
      "1.0\n"
     ]
    }
   ],
   "source": [
    "classifier_for_svm = SVC(kernel='linear')\n",
    "classifier_for_svm.fit(x_train, y_train)\n",
    "score_train_svm=classifier_for_svm.score(x_train, y_train)\n",
    "print(score_train_svm)"
   ]
  },
  {
   "cell_type": "code",
   "execution_count": 21,
   "id": "63658f21",
   "metadata": {},
   "outputs": [
    {
     "name": "stdout",
     "output_type": "stream",
     "text": [
      "0.9711111111111111\n"
     ]
    }
   ],
   "source": [
    "predictions_for_svm=classifier_for_svm.predict(x_test)\n",
    "score_for_svm=accuracy_score(predictions_for_svm, y_test)\n",
    "print(score_for_svm)"
   ]
  },
  {
   "cell_type": "markdown",
   "id": "e7593c00",
   "metadata": {},
   "source": [
    "# SVM on Large Dataset"
   ]
  },
  {
   "cell_type": "code",
   "execution_count": 22,
   "id": "160fa9ee",
   "metadata": {},
   "outputs": [
    {
     "name": "stdout",
     "output_type": "stream",
     "text": [
      "0.97075\n"
     ]
    }
   ],
   "source": [
    "classifier_for_ld_svm = SVC(kernel='linear')\n",
    "classifier_for_ld_svm.fit(x_train_ld, y_train_ld)\n",
    "score_train_ld_svm=classifier_for_ld_svm.score(x_train_ld, y_train_ld)\n",
    "print(score_train_ld_svm)"
   ]
  },
  {
   "cell_type": "code",
   "execution_count": 23,
   "id": "a94a59ee",
   "metadata": {},
   "outputs": [
    {
     "name": "stdout",
     "output_type": "stream",
     "text": [
      "0.9404\n"
     ]
    }
   ],
   "source": [
    "predictions_for_ld_svm=classifier_for_ld_svm.predict(x_test_ld)\n",
    "score_for_ld_svm=accuracy_score(predictions_for_ld_svm, y_test_ld)\n",
    "print(score_for_ld_svm)"
   ]
  },
  {
   "cell_type": "markdown",
   "id": "2e7d2fc1",
   "metadata": {},
   "source": [
    "# Naive Bayes on Small Dataset"
   ]
  },
  {
   "cell_type": "code",
   "execution_count": 24,
   "id": "4d1f66a7",
   "metadata": {},
   "outputs": [
    {
     "name": "stdout",
     "output_type": "stream",
     "text": [
      "0.8574610244988864\n"
     ]
    }
   ],
   "source": [
    "classifier_for_nb = GaussianNB()\n",
    "classifier_for_nb.fit(x_train, y_train)\n",
    "score_train_nb=classifier_for_nb.score(x_train, y_train)\n",
    "print(score_train_nb)"
   ]
  },
  {
   "cell_type": "code",
   "execution_count": 25,
   "id": "3f3dce45",
   "metadata": {},
   "outputs": [
    {
     "name": "stdout",
     "output_type": "stream",
     "text": [
      "0.8333333333333334\n"
     ]
    }
   ],
   "source": [
    "predictions_for_nb=classifier_for_nb.predict(x_test)\n",
    "score_for_nb=accuracy_score(predictions_for_nb, y_test)\n",
    "print(score_for_nb)"
   ]
  },
  {
   "cell_type": "markdown",
   "id": "cad92418",
   "metadata": {},
   "source": [
    "# Naive Bayes on Large Dataset"
   ]
  },
  {
   "cell_type": "code",
   "execution_count": 26,
   "id": "0b186487",
   "metadata": {},
   "outputs": [
    {
     "name": "stdout",
     "output_type": "stream",
     "text": [
      "0.5649\n"
     ]
    }
   ],
   "source": [
    "classifier_for_ld_nb = GaussianNB()\n",
    "classifier_for_ld_nb.fit(x_train_ld, y_train_ld)\n",
    "score_train_ld_nb=classifier_for_ld_nb.score(x_train_ld, y_train_ld)\n",
    "print(score_train_ld_nb)"
   ]
  },
  {
   "cell_type": "code",
   "execution_count": 27,
   "id": "962b8ff1",
   "metadata": {},
   "outputs": [
    {
     "name": "stdout",
     "output_type": "stream",
     "text": [
      "0.5558\n"
     ]
    }
   ],
   "source": [
    "predictions_for_ld_nb=classifier_for_ld_nb.predict(x_test_ld)\n",
    "score_for_ld_nb=accuracy_score(predictions_for_ld_nb, y_test_ld)\n",
    "print(score_for_ld_nb)"
   ]
  },
  {
   "cell_type": "markdown",
   "id": "2d5edbc4",
   "metadata": {},
   "source": [
    "# KNN on Small Dataset"
   ]
  },
  {
   "cell_type": "markdown",
   "id": "cdcd0034",
   "metadata": {},
   "source": [
    "# KNN on Large Dataset"
   ]
  },
  {
   "cell_type": "code",
   "execution_count": null,
   "id": "6774ff5e",
   "metadata": {},
   "outputs": [],
   "source": [
    "# classifier_for_ld_knn = KNeighborsClassifier(n_neighbors=3)\n",
    "# classifier_for_ld_knn.fit(x_train_ld, y_train_ld)\n",
    "# score_train_ld_knn=classifier_for_ld_knn.score(x_train_ld, y_train_ld)\n",
    "# print(score_train_ld_knn)"
   ]
  },
  {
   "cell_type": "code",
   "execution_count": null,
   "id": "b0068edf",
   "metadata": {},
   "outputs": [],
   "source": [
    "# predictions_for_ld_knn=classifier_for_ld_knn.predict(x_test_ld)\n",
    "# score_for_ld_knn=accuracy_score(predictions_for_ld_knn, y_test_ld)\n",
    "# print(score_for_ld_knn)"
   ]
  },
  {
   "cell_type": "markdown",
   "id": "03b7799f",
   "metadata": {},
   "source": [
    "# ANN on Large Dataset"
   ]
  },
  {
   "cell_type": "code",
   "execution_count": 44,
   "id": "9fdfb75a",
   "metadata": {},
   "outputs": [],
   "source": [
    "# Build a simple ANN architecture (input layers), hidden layers=2, output layer=1)\n",
    "annmodel = Sequential([\n",
    "    Dense(128, activation='relu', input_shape=(784,)),\n",
    "    Dense(64, activation='relu'),\n",
    "    Dense(10, activation='softmax')\n",
    "])"
   ]
  },
  {
   "cell_type": "code",
   "execution_count": 45,
   "id": "8f0fc55e",
   "metadata": {},
   "outputs": [],
   "source": [
    "annmodel.compile(optimizer='adam', loss='sparse_categorical_crossentropy', metrics=['accuracy'])"
   ]
  },
  {
   "cell_type": "code",
   "execution_count": 47,
   "id": "2245a4c6",
   "metadata": {},
   "outputs": [
    {
     "name": "stdout",
     "output_type": "stream",
     "text": [
      "Epoch 1/3\n",
      "938/938 [==============================] - 7s 6ms/step - loss: 0.2818 - accuracy: 0.9194 - val_loss: 0.1430 - val_accuracy: 0.9578\n",
      "Epoch 2/3\n",
      "938/938 [==============================] - 5s 5ms/step - loss: 0.1163 - accuracy: 0.9653 - val_loss: 0.1053 - val_accuracy: 0.9670\n",
      "Epoch 3/3\n",
      "938/938 [==============================] - 5s 5ms/step - loss: 0.0804 - accuracy: 0.9757 - val_loss: 0.0795 - val_accuracy: 0.9754\n"
     ]
    }
   ],
   "source": [
    "S=time.time()\n",
    "annmodel.fit(x_train_ld, y_train_ld, epochs=3, batch_size=64, validation_data=(x_test_ld, y_test_ld))\n",
    "E=time.time()"
   ]
  },
  {
   "cell_type": "code",
   "execution_count": 48,
   "id": "4eba2611",
   "metadata": {},
   "outputs": [
    {
     "name": "stdout",
     "output_type": "stream",
     "text": [
      "313/313 [==============================] - 1s 3ms/step - loss: 0.0795 - accuracy: 0.9754\n",
      "Test accuracy: 0.9753999710083008\n",
      "Total time taken while training:  16.74219799041748\n"
     ]
    }
   ],
   "source": [
    "test_loss, test_acc = annmodel.evaluate(x_test, y_test)\n",
    "#joblib.dump(cnnmodel, 'cnn_model.joblib')\n",
    "print(f\"Test accuracy: {test_acc}\")\n",
    "print(\"Total time taken while training: \", E-S)"
   ]
  },
  {
   "cell_type": "markdown",
   "id": "7dc2a195",
   "metadata": {},
   "source": [
    "# Comparison Between Different Classifiers"
   ]
  },
  {
   "cell_type": "markdown",
   "id": "e0f5d8ff",
   "metadata": {},
   "source": [
    "|        Models       | Train Accuracy Digit (1797, 64) (in %) | Test Accuracy Digit (1797, 64) (in %) | Train Accuracy (70000, 784) (in %) | Test Accuracy  (70000, 784) (in %) |\n",
    "|:-------------------:|:--------------------------------------:|:-------------------------------------:|:----------------------------------:|:----------------------------------:|\n",
    "| Logistic Regression |                   100                  |                   95                  |                 94                 |                 92                 |\n",
    "|    Decision Tree    |                   100                  |                   85                  |                 99                 |                 88                 |\n",
    "|    Random Forest    |                   100                  |                   97                  |                 100                |                 97                 |\n",
    "|         SVM         |                   100                  |                   97                  |                 97                 |                 94                 |\n",
    "|     Naive Bayes     |                   85                   |                   83                  |                 56                 |                 55                 |\n",
    "|         ANN         |                  97.79                 |                 96.88                 |                97.57               |                97.54               |"
   ]
  },
  {
   "cell_type": "markdown",
   "id": "a8adfd9f",
   "metadata": {},
   "source": [
    "| Number of hidden Layers | Batch Size | Train Acc | Test Acc |\n",
    "|-------------------------|------------|-----------|----------|\n",
    "| 3(128,64,32)            | 8          | 96.75     | 96.90    |\n",
    "| 3(64,64,32)             | 16         | 96.39     | 96.59    |\n",
    "| 2(64,32)                | 32         | 96.11     | 96.81    |\n",
    "| 2(128,64)               | 64         | 96.66     | 97.21    |\n",
    "| 1(32)                   | 128        | 92.94     | 93.84    |"
   ]
  },
  {
   "cell_type": "markdown",
   "id": "10b8de19",
   "metadata": {},
   "source": [
    "# Conclusion"
   ]
  },
  {
   "cell_type": "markdown",
   "id": "a93e9554",
   "metadata": {},
   "source": [
    "Refining the language and elaborating on the comparison between Artificial Neural Networks (ANN) and other prominent algorithms like logistic regression, k-nearest neighbors (KNN), decision trees, and support vector machines (SVM), the findings from this laboratory experiment underscore a compelling insight. It reveals that the choice of machine learning algorithm should be tailored to the characteristics of the dataset size.\n",
    "\n",
    "When dealing with modestly sized datasets, traditional machine learning algorithms like logistic regression, KNN, decision trees, and SVM exhibit commendable performance in yielding accurate results. These methods, well-established and inherently interpretable, can efficiently capture patterns within smaller datasets, leading to satisfactory accuracy levels.\n",
    "\n",
    "However, as the dataset scale amplifies to larger proportions, a remarkable shift in performance dynamics becomes evident. Artificial Neural Networks, a cornerstone of deep learning, emerge as the frontrunners in classification tasks. The inherent capability of ANNs to learn complex patterns and hierarchies from vast amounts of data sets them apart. This advantage becomes increasingly apparent in larger datasets, where the inherent complexity of the data necessitates a more nuanced and sophisticated approach.\n",
    "\n",
    "In comparison to the aforementioned classical algorithms, ANNs showcase superior adaptability to intricate data relationships and patterns, enabling them to decipher hidden insights that might elude the grasp of other classifiers. Their ability to process and comprehend intricate features across vast datasets ultimately translates into heightened accuracy.\n",
    "\n",
    "In essence, this laboratory experimentation yields a crucial inference: the selection of the appropriate algorithm should be contingent on the dataset's magnitude. For small-scale datasets, the traditional machine learning methods stand strong. However, when confronted with substantial datasets, the supremacy of Artificial Neural Networks becomes evident, presenting a potent tool for extracting meaningful information from intricate and voluminous data realms.\n",
    "\n",
    "\n",
    "\n",
    "\n"
   ]
  },
  {
   "cell_type": "code",
   "execution_count": null,
   "id": "dd6d60ee",
   "metadata": {},
   "outputs": [],
   "source": []
  }
 ],
 "metadata": {
  "kernelspec": {
   "display_name": "Python 3 (ipykernel)",
   "language": "python",
   "name": "python3"
  },
  "language_info": {
   "codemirror_mode": {
    "name": "ipython",
    "version": 3
   },
   "file_extension": ".py",
   "mimetype": "text/x-python",
   "name": "python",
   "nbconvert_exporter": "python",
   "pygments_lexer": "ipython3",
   "version": "3.11.3"
  }
 },
 "nbformat": 4,
 "nbformat_minor": 5
}
